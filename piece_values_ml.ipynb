{
 "cells": [
  {
   "cell_type": "markdown",
   "metadata": {},
   "source": [
    "# Chess Piece Values by ML"
   ]
  },
  {
   "cell_type": "markdown",
   "metadata": {},
   "source": [
    "A standard rule of thumb one learns when beginning chess is the so-called piece value rule. Namely, this rule says that a pawn is worth 1 point, a knight and bishop 3, a rook 5 and a queen 9 points. So, one should not exchange a queen for a rook for example, because they loose points: we gain 5 points but lose 9, so we end up with +5 - 9 = -4."
   ]
  },
  {
   "cell_type": "markdown",
   "metadata": {},
   "source": [
    "![img](board.PNG \"Title\")"
   ]
  },
  {
   "cell_type": "markdown",
   "metadata": {},
   "source": [
    "But, where does this rule come from? In this notebook, we will try to give a \"data analysis\" approach on this question: Namely, we will use Machine Learning to estimate the piece values!"
   ]
  },
  {
   "cell_type": "markdown",
   "metadata": {},
   "source": [
    "# The Idea"
   ]
  },
  {
   "cell_type": "markdown",
   "metadata": {},
   "source": [
    "The idea is to interpret the chess piece values rule as a kind of predictor for the game’s outcome. That is, our surplus or shortage in a piece is a feature that can predict the game’s result (win, loss or draw). \n",
    "\n",
    "Specifically, our features are the following:\n",
    "\n",
    "1. Our surplus (or shortage) of pawns.\n",
    "2. Our surplus (or shortage) of knights.\n",
    "3. Our surplus (or shortage) of bishops.\n",
    "4. Our surplus (or shortage) of rooks.\n",
    "5. Our surplus (or shortage) of queens.\n",
    "\n",
    "Also, the outcome we want to predict is the following:\n",
    "\n",
    "6. Game result (win, loss or draw).\n",
    "\n",
    "We can also interpret this as predicting our winning probability."
   ]
  },
  {
   "cell_type": "markdown",
   "metadata": {},
   "source": [
    "Now, since the rule tells us to add the points for each piece, that means that we’re looking for a linear model, because linear models are exactly the kind of models where features are multiplied by their weights and added. In this light, piece values are exactly the weights of the above features!\n",
    "\n",
    "With that, we can now begin our analysis!"
   ]
  },
  {
   "cell_type": "markdown",
   "metadata": {},
   "source": [
    "# Imports"
   ]
  },
  {
   "cell_type": "code",
   "execution_count": 1,
   "metadata": {},
   "outputs": [],
   "source": [
    "import numpy as np\n",
    "import matplotlib.pyplot as plt\n",
    "import pandas as pd\n",
    "\n",
    "# sklearn\n",
    "from sklearn import preprocessing\n",
    "from sklearn.pipeline import make_pipeline\n",
    "from sklearn import linear_model\n",
    "from sklearn.model_selection import train_test_split\n",
    "from sklearn.metrics import accuracy_score\n",
    "from sklearn.metrics import mean_squared_error, r2_score\n",
    "from sklearn.model_selection import GridSearchCV\n",
    "from sklearn.ensemble import RandomForestClassifier\n",
    "\n",
    "# other\n",
    "import utils"
   ]
  },
  {
   "cell_type": "markdown",
   "metadata": {},
   "source": [
    "# Dataset"
   ]
  },
  {
   "cell_type": "markdown",
   "metadata": {},
   "source": [
    "Our data come from the lichess website (lichess.org). For every month, lichess publishes a database with games played on the website (https://database.lichess.org/). These databases contain a series of games stored in the PNG format. This is a format for chess game annotation, that provides the game moves, as well as additional information such as the game’s outcome, player’s ELO scores, game time controls, and more. An example of a PNG file can be seen below:"
   ]
  },
  {
   "cell_type": "markdown",
   "metadata": {},
   "source": [
    "[Event \"Rated Bullet tournament https://lichess.org/tournament/yc1WW2Ox\"] <br>\n",
    "[Site \"https://lichess.org/PpwPOZMq\"] <br>\n",
    "[Date \"2017.04.01\"] <br>\n",
    "[Round \"-\"] <br>\n",
    "[White \"Abbot\"] <br>\n",
    "[Black \"Costello\"] <br>\n",
    "[Result \"0-1\"] <br>\n",
    "[UTCDate \"2017.04.01\"] <br>\n",
    "[UTCTime \"11:32:01\"] <br>\n",
    "[WhiteElo \"2100\"] <br>\n",
    "[BlackElo \"2000\"] <br>\n",
    "[WhiteRatingDiff \"-4\"] <br>\n",
    "[BlackRatingDiff \"+1\"] <br>\n",
    "[WhiteTitle \"FM\"] <br>\n",
    "[ECO \"B30\"] <br>\n",
    "[Opening \"Sicilian Defense: Old Sicilian\"] <br>\n",
    "[TimeControl \"300+0\"] <br>\n",
    "[Termination \"Time forfeit\"] <br>\n",
    " <br>\n",
    "1. e4 { [%eval 0.17] [%clk 0:00:30] } 1... c5 { [%eval 0.19] [%clk 0:00:30] } <br>\n",
    "2. Nf3 { [%eval 0.25] [%clk 0:00:29] } 2... Nc6 { [%eval 0.33] [%clk 0:00:30] } <br>\n",
    "3. Bc4 { [%eval -0.13] [%clk 0:00:28] } 3... e6 { [%eval -0.04] [%clk 0:00:30] } <br>\n",
    "4. c3 { [%eval -0.4] [%clk 0:00:27] } 4... b5? { [%eval 1.18] [%clk 0:00:30] } <br>\n",
    "5. Bb3?! { [%eval 0.21] [%clk 0:00:26] } 5... c4 { [%eval 0.32] [%clk 0:00:29] } <br>\n",
    "6. Bc2 { [%eval 0.2] [%clk 0:00:25] } 6... a5 { [%eval 0.6] [%clk 0:00:29] } <br>\n",
    "7. d4 { [%eval 0.29] [%clk 0:00:23] } 7... cxd3 { [%eval 0.6] [%clk 0:00:27] } <br>\n",
    "8. Qxd3 { [%eval 0.12] [%clk 0:00:22] } 8... Nf6 { [%eval 0.52] [%clk 0:00:26] } <br>\n",
    "9. e5 { [%eval 0.39] [%clk 0:00:21] } 9... Nd5 { [%eval 0.45] [%clk 0:00:25] } <br>\n",
    "10. Bg5?! { [%eval -0.44] [%clk 0:00:18] } 10... Qc7 { [%eval -0.12] [%clk 0:00:23] } <br>\n",
    "11. Nbd2?? { [%eval -3.15] [%clk 0:00:14] } 11... h6 { [%eval -2.99] [%clk 0:00:23] } <br>\n",
    "12. Bh4 { [%eval -3.0] [%clk 0:00:11] } 12... Ba6? { [%eval -0.12] [%clk 0:00:23] } <br>\n",
    "13. b3?? { [%eval -4.14] [%clk 0:00:02] } 13... Nf4? { [%eval -2.73] [%clk 0:00:21] } 0-1"
   ]
  },
  {
   "cell_type": "markdown",
   "metadata": {},
   "source": [
    "From this, what we need to get is some vectors with the piece differences at some specific positions. Such a vector will look like this: <br>\n",
    "<code>vec_material = [pawn_diff, knight_diff, bishop_diff, rook_diff, queen_diff]</code>"
   ]
  },
  {
   "cell_type": "markdown",
   "metadata": {},
   "source": [
    "We will do that in the following way:\n",
    "\n",
    "1. We parse the games from the database.\n",
    "2. For each game, we find some characteristic positions with material imbalances.\n",
    "3. For these positions, we calculate the material imbalance vectors, and append them in our dataset (X)\n",
    "4. For each one of those positions, our target is the game outcome: +1 for white’s win, -1 for black’s win, and 0 for draw. We store the outcomes in our target labels Y.\n",
    "\n",
    "This is our final dataset. The process of the game parsing and their replay for position extraction is done using the functions of the utils.py script. There, we take some additional parameters into consideration: for example, if a game has issues like a big elo difference between players, very low game times, etc., then we exclude these games from the dataset, since they might have a negative influence on the results. "
   ]
  },
  {
   "cell_type": "markdown",
   "metadata": {},
   "source": [
    "Finally, some technical notes: to simplify the analysis, we will look at games from white’s perspective. That means, the material imbalances will be computed with respect to the white player: if white has an extra knight, then $knight-diff = 1$, while if black has an extra knight, then $knight-diff = -1$. Moreover, at some points we will convert the game outcomes in probabilities: 1 for white’s win, 0 for white’s loss, ½ for draw (we also see the outcome from white’s perspective)."
   ]
  },
  {
   "cell_type": "markdown",
   "metadata": {},
   "source": [
    "First, we need to download the data. You can get it from here:\n",
    "https://database.lichess.org/lichess_db_standard_rated_2013-01.pgn.bz2\n",
    "After downloading is complete, extract the files in the same directory as this notebook (or change the path below).\n",
    "After this is done, we can read the data:"
   ]
  },
  {
   "cell_type": "code",
   "execution_count": 4,
   "metadata": {},
   "outputs": [],
   "source": [
    "# read data. This will take some time..\n",
    "X, Y = utils.read_games('lichess_db_standard_rated_2013-01.pgn', skip_draws = True)"
   ]
  },
  {
   "cell_type": "code",
   "execution_count": 5,
   "metadata": {},
   "outputs": [],
   "source": [
    "# save the data in numpy format\n",
    "np.savez('positions_data', X = X, Y = Y)\n",
    "# load data from npz\n",
    "#dat = np.load('positions_data.npz')\n",
    "#X = dat['X']\n",
    "#Y = dat['Y']"
   ]
  },
  {
   "cell_type": "markdown",
   "metadata": {},
   "source": [
    "Lets print some info for our data:"
   ]
  },
  {
   "cell_type": "code",
   "execution_count": 6,
   "metadata": {},
   "outputs": [
    {
     "name": "stdout",
     "output_type": "stream",
     "text": [
      "Number of samples in dataset: 13864\n",
      "Input attributes: ['pawn_diff', 'knight_diff', 'bishop_diff', 'rook_diff', 'queen_diff']\n",
      "Target attribute: outcome\n",
      "sample inputs:\n",
      "[[-1  1  0  0 -1]\n",
      " [ 0  1 -1  0  0]\n",
      " [-1  0 -1  0  1]\n",
      " [ 0  1 -1  0  0]\n",
      " [ 0  0 -1  1  0]]\n",
      "sample outputs:\n",
      "[-1  1  1  1 -1]\n"
     ]
    }
   ],
   "source": [
    "target_col = 5\n",
    "dset_names = ['pawn_diff', 'knight_diff', 'bishop_diff', 'rook_diff', 'queen_diff', 'outcome']\n",
    "print('Number of samples in dataset:', len(Y))\n",
    "print('Input attributes:', dset_names[:target_col])\n",
    "print('Target attribute:', dset_names[target_col])\n",
    "\n",
    "print('sample inputs:')\n",
    "print(X[:5])\n",
    "\n",
    "print('sample outputs:')\n",
    "print(Y[:5])"
   ]
  },
  {
   "cell_type": "code",
   "execution_count": 7,
   "metadata": {},
   "outputs": [],
   "source": [
    "# make also a pandas dataframe\n",
    "XY = np.hstack( (X, Y.reshape((len(Y), -1))) )\n",
    "dataset = pd.DataFrame(XY, columns = dset_names)"
   ]
  },
  {
   "cell_type": "markdown",
   "metadata": {},
   "source": [
    "# Data Exploration"
   ]
  },
  {
   "cell_type": "markdown",
   "metadata": {},
   "source": [
    "In this section, we will plot some diagrams and try to get a visual overview of our data."
   ]
  },
  {
   "cell_type": "markdown",
   "metadata": {},
   "source": [
    "First, we make a boxplot of the various dataset features, to check their value ranges:"
   ]
  },
  {
   "cell_type": "code",
   "execution_count": 8,
   "metadata": {},
   "outputs": [
    {
     "data": {
      "image/png": "[encoded data removed]",
      "text/plain": [
       "<Figure size 720x720 with 6 Axes>"
      ]
     },
     "metadata": {
      "needs_background": "light"
     },
     "output_type": "display_data"
    }
   ],
   "source": [
    "# adjust spacing between subplots\n",
    "plt.figure(figsize = (10, 10))\n",
    "plt.subplots_adjust(left=None, bottom=None, right=2, top=None, wspace=1, hspace=1)\n",
    "\n",
    "for i in range(len(dset_names)):\n",
    "    plt.subplot(2, 3, i + 1)\n",
    "    plt.boxplot(dataset[dset_names[i]])\n",
    "    plt.gca().set_title(dset_names[i])\n",
    "plt.show()"
   ]
  },
  {
   "cell_type": "markdown",
   "metadata": {},
   "source": [
    "We see that our games are balanced on average, which is a good sign."
   ]
  },
  {
   "cell_type": "markdown",
   "metadata": {},
   "source": [
    "We can also plot the target variable with respect to each feature."
   ]
  },
  {
   "cell_type": "code",
   "execution_count": 9,
   "metadata": {},
   "outputs": [
    {
     "data": {
      "image/png": "[encoded data removed]",
      "text/plain": [
       "<Figure size 720x720 with 5 Axes>"
      ]
     },
     "metadata": {
      "needs_background": "light"
     },
     "output_type": "display_data"
    }
   ],
   "source": [
    "# adjust spacing between subplots\n",
    "plt.figure(figsize = (10, 10))\n",
    "plt.subplots_adjust(left=None, bottom=None, right=2, top=None, wspace=1, hspace=1)\n",
    "\n",
    "for i in range(len(dset_names) - 1):\n",
    "    plt.subplot(2, 3, i + 1)\n",
    "    plt.scatter(dataset[dset_names[i]], dataset[dset_names[-1]])\n",
    "    plt.gca().set_title('outcome vs ' + dset_names[i])\n",
    "plt.show()"
   ]
  },
  {
   "cell_type": "markdown",
   "metadata": {},
   "source": [
    "We observe that individual material differences are not very informative, unless they’re very large."
   ]
  },
  {
   "cell_type": "markdown",
   "metadata": {},
   "source": [
    "# Train - Test Split"
   ]
  },
  {
   "cell_type": "markdown",
   "metadata": {},
   "source": [
    "We spit our dataset in train and test. We will keep 70% of the data for training, and the rest for testing."
   ]
  },
  {
   "cell_type": "code",
   "execution_count": 10,
   "metadata": {},
   "outputs": [],
   "source": [
    "# Split our data\n",
    "Xtrain, Xtest, Ytrain, Ytest = train_test_split(X, Y, test_size=0.3)"
   ]
  },
  {
   "cell_type": "markdown",
   "metadata": {},
   "source": [
    "# Model Training"
   ]
  },
  {
   "cell_type": "markdown",
   "metadata": {},
   "source": [
    "Here, its time to train some (linear) models on our training set! "
   ]
  },
  {
   "cell_type": "markdown",
   "metadata": {},
   "source": [
    "### Logistic Regression"
   ]
  },
  {
   "cell_type": "markdown",
   "metadata": {},
   "source": [
    "First, we will train a logistic regression. We excluded draws in this case, so we predict 2 categories: win or loss (binary classification)."
   ]
  },
  {
   "cell_type": "code",
   "execution_count": 11,
   "metadata": {},
   "outputs": [],
   "source": [
    "clf = linear_model.LogisticRegression()"
   ]
  },
  {
   "cell_type": "markdown",
   "metadata": {},
   "source": [
    "Train the model. We test different regularization strengths via grid search."
   ]
  },
  {
   "cell_type": "code",
   "execution_count": 12,
   "metadata": {},
   "outputs": [
    {
     "name": "stdout",
     "output_type": "stream",
     "text": [
      "model trained\n"
     ]
    },
    {
     "name": "stderr",
     "output_type": "stream",
     "text": [
      "C:\\Users\\admin\\Anaconda3\\lib\\site-packages\\sklearn\\linear_model\\logistic.py:432: FutureWarning: Default solver will be changed to 'lbfgs' in 0.22. Specify a solver to silence this warning.\n",
      "  FutureWarning)\n"
     ]
    }
   ],
   "source": [
    "# grid parameters to test\n",
    "Cs = [0.1, 0.5, 1, 2, 5]\n",
    "\n",
    "estimator = GridSearchCV(clf, dict(C = Cs), cv=5, scoring='accuracy', n_jobs=-1)\n",
    "\n",
    "# fit model\n",
    "estimator.fit(Xtrain, Ytrain)\n",
    "Ypred = estimator.predict(Xtest)\n",
    "\n",
    "print('model trained')"
   ]
  },
  {
   "cell_type": "code",
   "execution_count": 13,
   "metadata": {},
   "outputs": [
    {
     "name": "stdout",
     "output_type": "stream",
     "text": [
      "LogisticRegression(C=2, class_weight=None, dual=False, fit_intercept=True,\n",
      "                   intercept_scaling=1, l1_ratio=None, max_iter=100,\n",
      "                   multi_class='warn', n_jobs=None, penalty='l2',\n",
      "                   random_state=None, solver='warn', tol=0.0001, verbose=0,\n",
      "                   warm_start=False)\n",
      "{'C': 2}\n"
     ]
    }
   ],
   "source": [
    "print(estimator.best_estimator_)\n",
    "print(estimator.best_params_)"
   ]
  },
  {
   "cell_type": "markdown",
   "metadata": {},
   "source": [
    "Let’s check its performance on predicting game outcomes:"
   ]
  },
  {
   "cell_type": "code",
   "execution_count": 14,
   "metadata": {},
   "outputs": [
    {
     "name": "stdout",
     "output_type": "stream",
     "text": [
      "Performance on training set:  acc =  0.6856966199505359\n",
      "Performance on test set:  acc =  0.6860576923076923\n"
     ]
    }
   ],
   "source": [
    "# peformance on training set\n",
    "Ypred = estimator.predict(Xtrain)\n",
    "acc_train = accuracy_score(Ypred, Ytrain)\n",
    "\n",
    "# peformance on test set\n",
    "Ypred = estimator.predict(Xtest)\n",
    "acc_test = accuracy_score(Ypred, Ytest)\n",
    "\n",
    "# print results\n",
    "print('Performance on training set: ', 'acc = ', acc_train)\n",
    "print('Performance on test set: ', 'acc = ', acc_test)"
   ]
  },
  {
   "cell_type": "markdown",
   "metadata": {},
   "source": [
    "We see that performance is relatively low. This is expected, due to various factors. First, apart from material, here are many more features in chess that are important, such as the piece positions, etc. The piece value rule is a rule of thumb, not an absolute truth. Secondly, it might be the case that our method for selecting chess positions is not the best possible. For example, we might have chosen a mate in 3 position, where a player has sacrificed a lot (and is down material), but has a mating attack. Or, we should filter our games more, and use games from stronger players who make less mistakes. Finding out which one of these factors is the most important requires a careful examination of the games. \n",
    "Finally, we see that we have no overfitting. "
   ]
  },
  {
   "cell_type": "markdown",
   "metadata": {},
   "source": [
    "Now, we can find the relative weight of each feature, using the learned coefficients of our logistic model. We divide each weight by the weight of the pawns, so that the pawn importance is normalized to 1 (and hence, a pawn is worth 1 point). With this, we find the following weights for our features:  "
   ]
  },
  {
   "cell_type": "code",
   "execution_count": 15,
   "metadata": {},
   "outputs": [
    {
     "name": "stdout",
     "output_type": "stream",
     "text": [
      "feature names:  ['pawn_diff', 'knight_diff', 'bishop_diff', 'rook_diff', 'queen_diff']\n",
      "logistic weights:  [[0.29458446 0.6759914  0.79212307 1.10848013 2.20145243]]\n",
      "normalized logistic weights:  [[1.         2.29472865 2.68895066 3.76286018 7.47307729]]\n"
     ]
    }
   ],
   "source": [
    "# get feature weights\n",
    "print('feature names: ', dset_names[:-1])\n",
    "# get logistic weights\n",
    "w = estimator.best_estimator_.coef_\n",
    "print('logistic weights: ', w)\n",
    "w1 = w / w[0, 0]\n",
    "print('normalized logistic weights: ', w1)"
   ]
  },
  {
   "cell_type": "markdown",
   "metadata": {},
   "source": [
    "With this, we get the following piece values:\n",
    "> pawn value: 1 <br>\n",
    "> knight value: 2.1 <br>\n",
    "> bishop value: 2.4 <br>\n",
    "> rook value: 3.3 <br>\n",
    "> queen value: 6.8 <br>\n",
    "\n",
    "These values are not the same as in the rule, but they are not far away. It’s interesting to note that the values of knights and bishops are relatively close to 3, but the values of the rook and queen are lower than expected!"
   ]
  },
  {
   "cell_type": "markdown",
   "metadata": {},
   "source": [
    "Another thing we can try is to measure the performance of the 1-3-3-5-9 rule on the test set! To do that, we calculate our points as $s = pawns*1 + knights*3 + ... + queens*9$, and then apply the sigmoid function to convert into a probability: $σ(x) = 1/(1 + exp(-s))$. Note however: this analysis assumes that the piece values in 1-3-3-5-9 are the weights of a logistic regression, which is not certain."
   ]
  },
  {
   "cell_type": "code",
   "execution_count": 16,
   "metadata": {},
   "outputs": [
    {
     "name": "stdout",
     "output_type": "stream",
     "text": [
      "Performance of rule on test set:  acc =  0.6913461538461538\n"
     ]
    }
   ],
   "source": [
    "# calc scores with rule of thumb\n",
    "scores = 1 * Xtest[:, 0] + 3 * Xtest[:, 1] + 3 * Xtest[:, 2] + 5 * Xtest[:, 3] + 9 * Xtest[:, 4] \n",
    "# logistic prob\n",
    "probs = 1 / (1 + np.exp(-scores))\n",
    "# logistic classification\n",
    "Ypred2 = probs >= 0.5\n",
    "# fix also Ytest to be in [0, 1]\n",
    "Ytest2 = Ytest > 0\n",
    "\n",
    "# calc accuracy\n",
    "acc_rule = accuracy_score(Ypred2, Ytest2)\n",
    "print('Performance of rule on test set: ', 'acc = ', acc_rule)"
   ]
  },
  {
   "cell_type": "markdown",
   "metadata": {},
   "source": [
    "Surprisingly, the 1-3-3-5-9 rule gives similar performance! Maybe we could recover the 1-3-3-5-9 values doing a better (maybe examining the games manually) cleaning of our data."
   ]
  },
  {
   "cell_type": "markdown",
   "metadata": {},
   "source": [
    "### Polynomial Regression"
   ]
  },
  {
   "cell_type": "markdown",
   "metadata": {},
   "source": [
    "Now, a reasonable question here is whether a logistic regression is the best model we could build here. Maybe a non-linear model could give us a better performance."
   ]
  },
  {
   "cell_type": "markdown",
   "metadata": {},
   "source": [
    "To test that, we will try here to train a polynomial regression model."
   ]
  },
  {
   "cell_type": "code",
   "execution_count": 17,
   "metadata": {},
   "outputs": [],
   "source": [
    "# create polynomial features of degree n\n",
    "poly_feat = preprocessing.PolynomialFeatures()\n",
    "\n",
    "# we apply linear regression on polyfeatures\n",
    "clf = linear_model.LogisticRegression()\n",
    "\n",
    "# make a pipeline\n",
    "pipe = make_pipeline(poly_feat, clf)"
   ]
  },
  {
   "cell_type": "code",
   "execution_count": 18,
   "metadata": {},
   "outputs": [
    {
     "name": "stdout",
     "output_type": "stream",
     "text": [
      "model trained\n"
     ]
    },
    {
     "name": "stderr",
     "output_type": "stream",
     "text": [
      "C:\\Users\\admin\\Anaconda3\\lib\\site-packages\\sklearn\\linear_model\\logistic.py:432: FutureWarning: Default solver will be changed to 'lbfgs' in 0.22. Specify a solver to silence this warning.\n",
      "  FutureWarning)\n"
     ]
    }
   ],
   "source": [
    "# grid parameters to test\n",
    "# we cannot increase degree too much because we end up with too many columns\n",
    "degrees = [2, 3, 4, 5]\n",
    "\n",
    "estimator = GridSearchCV(pipe, dict(polynomialfeatures__degree = degrees), cv=5, scoring='accuracy', n_jobs=-1)\n",
    "\n",
    "# fit model\n",
    "estimator.fit(Xtrain, Ytrain)\n",
    "Ypred = estimator.predict(Xtest)\n",
    "\n",
    "print('model trained')"
   ]
  },
  {
   "cell_type": "code",
   "execution_count": 19,
   "metadata": {},
   "outputs": [
    {
     "name": "stdout",
     "output_type": "stream",
     "text": [
      "Pipeline(memory=None,\n",
      "         steps=[('polynomialfeatures',\n",
      "                 PolynomialFeatures(degree=2, include_bias=True,\n",
      "                                    interaction_only=False, order='C')),\n",
      "                ('logisticregression',\n",
      "                 LogisticRegression(C=1.0, class_weight=None, dual=False,\n",
      "                                    fit_intercept=True, intercept_scaling=1,\n",
      "                                    l1_ratio=None, max_iter=100,\n",
      "                                    multi_class='warn', n_jobs=None,\n",
      "                                    penalty='l2', random_state=None,\n",
      "                                    solver='warn', tol=0.0001, verbose=0,\n",
      "                                    warm_start=False))],\n",
      "         verbose=False)\n",
      "{'polynomialfeatures__degree': 2}\n"
     ]
    }
   ],
   "source": [
    "print(estimator.best_estimator_)\n",
    "print(estimator.best_params_)"
   ]
  },
  {
   "cell_type": "code",
   "execution_count": 20,
   "metadata": {},
   "outputs": [
    {
     "name": "stdout",
     "output_type": "stream",
     "text": [
      "Performance on training set:  acc =  0.6861088211046991\n",
      "Performance on test set:  acc =  0.6846153846153846\n"
     ]
    }
   ],
   "source": [
    "# peformance on training set\n",
    "Ypred = estimator.predict(Xtrain)\n",
    "acc_train = accuracy_score(Ypred, Ytrain)\n",
    "\n",
    "# peformance on test set\n",
    "Ypred = estimator.predict(Xtest)\n",
    "acc_test = accuracy_score(Ypred, Ytest)\n",
    "\n",
    "# print results\n",
    "print('Performance on training set: ', 'acc = ', acc_train)\n",
    "print('Performance on test set: ', 'acc = ', acc_test)"
   ]
  },
  {
   "cell_type": "markdown",
   "metadata": {},
   "source": [
    "We see that the accuracy hasn’t increased."
   ]
  },
  {
   "cell_type": "markdown",
   "metadata": {},
   "source": [
    "### Random Forest"
   ]
  },
  {
   "cell_type": "markdown",
   "metadata": {},
   "source": [
    "Let’s see if a random forest can give us better results:"
   ]
  },
  {
   "cell_type": "code",
   "execution_count": 21,
   "metadata": {},
   "outputs": [],
   "source": [
    "scaler = preprocessing.StandardScaler()\n",
    "clf = RandomForestClassifier()\n",
    "\n",
    "# make a pipeline\n",
    "pipe = make_pipeline(scaler, clf)"
   ]
  },
  {
   "cell_type": "code",
   "execution_count": 22,
   "metadata": {},
   "outputs": [
    {
     "name": "stdout",
     "output_type": "stream",
     "text": [
      "model trained\n"
     ]
    },
    {
     "name": "stderr",
     "output_type": "stream",
     "text": [
      "C:\\Users\\admin\\Anaconda3\\lib\\site-packages\\sklearn\\ensemble\\forest.py:245: FutureWarning: The default value of n_estimators will change from 10 in version 0.20 to 100 in 0.22.\n",
      "  \"10 in version 0.20 to 100 in 0.22.\", FutureWarning)\n"
     ]
    }
   ],
   "source": [
    "# grid parameters to test\n",
    "max_depths = [2, 3, 4, 5, 8, 10, None]\n",
    "\n",
    "estimator = GridSearchCV(pipe, dict(randomforestclassifier__max_depth = max_depths), cv=5, scoring='accuracy', n_jobs=-1)\n",
    "\n",
    "# fit model\n",
    "estimator.fit(Xtrain, Ytrain)\n",
    "Ypred = estimator.predict(Xtest)\n",
    "\n",
    "print('model trained')"
   ]
  },
  {
   "cell_type": "code",
   "execution_count": 23,
   "metadata": {},
   "outputs": [
    {
     "name": "stdout",
     "output_type": "stream",
     "text": [
      "Pipeline(memory=None,\n",
      "         steps=[('standardscaler',\n",
      "                 StandardScaler(copy=True, with_mean=True, with_std=True)),\n",
      "                ('randomforestclassifier',\n",
      "                 RandomForestClassifier(bootstrap=True, class_weight=None,\n",
      "                                        criterion='gini', max_depth=8,\n",
      "                                        max_features='auto',\n",
      "                                        max_leaf_nodes=None,\n",
      "                                        min_impurity_decrease=0.0,\n",
      "                                        min_impurity_split=None,\n",
      "                                        min_samples_leaf=1, min_samples_split=2,\n",
      "                                        min_weight_fraction_leaf=0.0,\n",
      "                                        n_estimators=10, n_jobs=None,\n",
      "                                        oob_score=False, random_state=None,\n",
      "                                        verbose=0, warm_start=False))],\n",
      "         verbose=False)\n",
      "{'randomforestclassifier__max_depth': 8}\n"
     ]
    }
   ],
   "source": [
    "print(estimator.best_estimator_)\n",
    "print(estimator.best_params_)"
   ]
  },
  {
   "cell_type": "code",
   "execution_count": 24,
   "metadata": {},
   "outputs": [
    {
     "name": "stdout",
     "output_type": "stream",
     "text": [
      "Performance on training set:  acc =  0.6938375927452597\n",
      "Performance on test set:  acc =  0.6786057692307692\n"
     ]
    }
   ],
   "source": [
    "# peformance on training set\n",
    "Ypred = estimator.predict(Xtrain)\n",
    "acc_train = accuracy_score(Ypred, Ytrain)\n",
    "\n",
    "# peformance on test set\n",
    "Ypred = estimator.predict(Xtest)\n",
    "acc_test = accuracy_score(Ypred, Ytest)\n",
    "\n",
    "# print results\n",
    "print('Performance on training set: ', 'acc = ', acc_train)\n",
    "print('Performance on test set: ', 'acc = ', acc_test)"
   ]
  },
  {
   "cell_type": "markdown",
   "metadata": {},
   "source": [
    "We still have no improvement. This is maybe reasonable, since the crucial information missing are the positions. If we know only the material but not the position, then features that are based on material combinations do not offer us additional information. For example, the feature “has knight and rook” does not give additional information than the features “has knight” + “has rook”, if we don’t know where these pieces are! That’s why the non-linear models we tried above gave us no improvement over the linear model."
   ]
  },
  {
   "cell_type": "markdown",
   "metadata": {},
   "source": [
    "### Chess engine evaluation functions"
   ]
  },
  {
   "cell_type": "markdown",
   "metadata": {},
   "source": [
    "Chess programs use the so-called evaluation functions in order to judge the “goodness” of a particular position. Then, they apply a search algorithm such as A*, in order to find the move combination that leads to those good positions."
   ]
  },
  {
   "cell_type": "markdown",
   "metadata": {},
   "source": [
    "Evaluation functions of strong chess engines like stockfish don’t use only material of course, but they take dozens of additional factors into account defined by experts, such as king safety, if a piece is active or not, and many more. The weights of these features are then tuned through extensive testing. Moreover, they use tables made by experts for openings and endgames. More information about these can be found here: https://www.chessprogramming.org/Stockfish "
   ]
  },
  {
   "cell_type": "markdown",
   "metadata": {},
   "source": [
    "But why should we figure out these features by ourselves? Why not let a Deep Learning model learn those features on its own, by training on a lot of games? This is the approach first started by AlphaZero, which was trained by Reinforcement Learning, playing against itself. Alternatively, we could use supervised learning and let a Deep Neural Net try to predict game outcomes (but this could not get stronger than it’s labels – which are made by humans!). The latest version of stockfish uses also a Deep Learning model for chess position evaluations.  ."
   ]
  },
  {
   "cell_type": "markdown",
   "metadata": {},
   "source": [
    "# Test on strong player games"
   ]
  },
  {
   "cell_type": "markdown",
   "metadata": {},
   "source": [
    "Let’s try our experiment on a 2nd database that contains games by very strong chess players. Strong players make far less mistakes than amateurs, and that can hopefully let us train a more accurate model."
   ]
  },
  {
   "cell_type": "markdown",
   "metadata": {},
   "source": [
    "First, download and unzip the data from here: https://database.nikonoel.fr/lichess_elite_2020-06.zip"
   ]
  },
  {
   "cell_type": "code",
   "execution_count": 47,
   "metadata": {},
   "outputs": [],
   "source": [
    "X, Y = utils.read_games('lichess_elite_2020-06.pgn', skip_draws = True)"
   ]
  },
  {
   "cell_type": "code",
   "execution_count": 48,
   "metadata": {},
   "outputs": [],
   "source": [
    "np.savez('positions_data_elite', X = X, Y = Y)\n",
    "#dat = np.load('positions_data_elite.npz')\n",
    "#X = dat['X']\n",
    "#Y = dat['Y']"
   ]
  },
  {
   "cell_type": "code",
   "execution_count": 49,
   "metadata": {},
   "outputs": [
    {
     "name": "stdout",
     "output_type": "stream",
     "text": [
      "Number of samples in dataset: 14052\n",
      "Input attributes: ['pawn_diff', 'knight_diff', 'bishop_diff', 'rook_diff', 'queen_diff']\n",
      "Target attribute: outcome\n",
      "sample inputs:\n",
      "[[ 1  0 -1  0 -1]\n",
      " [-2  0 -1  0  1]\n",
      " [-1  0 -1  0  1]\n",
      " [ 0  1 -1  0  0]\n",
      " [ 1  1 -1  0  0]]\n",
      "sample outputs:\n",
      "[-1  1  1  1 -1]\n"
     ]
    }
   ],
   "source": [
    "# data characteristics\n",
    "target_col = 5\n",
    "dset_names = ['pawn_diff', 'knight_diff', 'bishop_diff', 'rook_diff', 'queen_diff', 'outcome']\n",
    "print('Number of samples in dataset:', len(Y))\n",
    "print('Input attributes:', dset_names[:target_col])\n",
    "print('Target attribute:', dset_names[target_col])\n",
    "\n",
    "print('sample inputs:')\n",
    "print(X[:5])\n",
    "\n",
    "print('sample outputs:')\n",
    "print(Y[:5])"
   ]
  },
  {
   "cell_type": "code",
   "execution_count": 50,
   "metadata": {},
   "outputs": [
    {
     "data": {
      "image/png": "[encoded data removed]",
      "text/plain": [
       "<Figure size 720x720 with 5 Axes>"
      ]
     },
     "metadata": {
      "needs_background": "light"
     },
     "output_type": "display_data"
    }
   ],
   "source": [
    "# make also a pandas dataframe\n",
    "XY = np.hstack( (X, Y.reshape((len(Y), -1))) )\n",
    "dataset = pd.DataFrame(XY, columns = dset_names)\n",
    "\n",
    "# adjust spacing between subplots\n",
    "plt.figure(figsize = (10, 10))\n",
    "plt.subplots_adjust(left=None, bottom=None, right=2, top=None, wspace=1, hspace=1)\n",
    "\n",
    "for i in range(len(dset_names) - 1):\n",
    "    plt.subplot(2, 3, i + 1)\n",
    "    plt.scatter(dataset[dset_names[i]], dataset[dset_names[-1]])\n",
    "    plt.gca().set_title('outcome vs ' + dset_names[i])\n",
    "plt.show()"
   ]
  },
  {
   "cell_type": "code",
   "execution_count": 51,
   "metadata": {},
   "outputs": [],
   "source": [
    "# Split our data\n",
    "Xtrain, Xtest, Ytrain, Ytest = train_test_split(X, Y, test_size=0.3)"
   ]
  },
  {
   "cell_type": "code",
   "execution_count": 52,
   "metadata": {},
   "outputs": [
    {
     "name": "stdout",
     "output_type": "stream",
     "text": [
      "model trained\n"
     ]
    },
    {
     "name": "stderr",
     "output_type": "stream",
     "text": [
      "C:\\Users\\admin\\Anaconda3\\lib\\site-packages\\sklearn\\linear_model\\logistic.py:432: FutureWarning: Default solver will be changed to 'lbfgs' in 0.22. Specify a solver to silence this warning.\n",
      "  FutureWarning)\n"
     ]
    }
   ],
   "source": [
    "clf = linear_model.LogisticRegression()\n",
    "\n",
    "# grid parameters to test\n",
    "Cs = [0.1, 0.5, 1, 2, 5]\n",
    "\n",
    "estimator = GridSearchCV(clf, dict(C = Cs), cv=5, scoring='accuracy', n_jobs=-1)\n",
    "\n",
    "# fit model\n",
    "estimator.fit(Xtrain, Ytrain)\n",
    "Ypred = estimator.predict(Xtest)\n",
    "\n",
    "print('model trained')"
   ]
  },
  {
   "cell_type": "code",
   "execution_count": 53,
   "metadata": {},
   "outputs": [
    {
     "name": "stdout",
     "output_type": "stream",
     "text": [
      "Performance on training set:  acc =  0.6838145587637251\n",
      "Performance on test set:  acc =  0.6968690702087287\n"
     ]
    }
   ],
   "source": [
    "# peformance on training set\n",
    "Ypred = estimator.predict(Xtrain)\n",
    "acc_train = accuracy_score(Ypred, Ytrain)\n",
    "\n",
    "# peformance on test set\n",
    "Ypred = estimator.predict(Xtest)\n",
    "acc_test = accuracy_score(Ypred, Ytest)\n",
    "\n",
    "# print results\n",
    "print('Performance on training set: ', 'acc = ', acc_train)\n",
    "print('Performance on test set: ', 'acc = ', acc_test)"
   ]
  },
  {
   "cell_type": "code",
   "execution_count": 54,
   "metadata": {},
   "outputs": [
    {
     "name": "stdout",
     "output_type": "stream",
     "text": [
      "feature names:  ['pawn_diff', 'knight_diff', 'bishop_diff', 'rook_diff', 'queen_diff']\n",
      "logistic weights:  [[0.30921809 0.66879071 0.75345147 1.11623164 2.30845909]]\n",
      "normalized logistic weights:  [[1.         2.1628447  2.43663449 3.60985228 7.46547225]]\n"
     ]
    }
   ],
   "source": [
    "# get feature weights\n",
    "print('feature names: ', dset_names[:-1])\n",
    "# get logistic weights\n",
    "w = estimator.best_estimator_.coef_\n",
    "print('logistic weights: ', w)\n",
    "w1 = w / np.abs(w[0, 0])\n",
    "print('normalized logistic weights: ', w1)"
   ]
  },
  {
   "cell_type": "markdown",
   "metadata": {},
   "source": [
    "We see that the values for the rook and the queen have increased now."
   ]
  },
  {
   "cell_type": "markdown",
   "metadata": {},
   "source": [
    "We can check again the rule’s performance:"
   ]
  },
  {
   "cell_type": "code",
   "execution_count": 56,
   "metadata": {},
   "outputs": [
    {
     "name": "stdout",
     "output_type": "stream",
     "text": [
      "Performance of rule on test set:  acc =  0.6971062618595826\n"
     ]
    }
   ],
   "source": [
    "# calc scores with rule of thumb\n",
    "scores = 1 * Xtest[:, 0] + 3 * Xtest[:, 1] + 3 * Xtest[:, 2] + 5 * Xtest[:, 3] + 9 * Xtest[:, 4] \n",
    "# logistic prob\n",
    "probs = 1 / (1 + np.exp(-scores))\n",
    "# logistic classification\n",
    "Ypred2 = probs >= 0.5\n",
    "# fix also Ytest to be in [0, 1]\n",
    "Ytest2 = Ytest > 0\n",
    "\n",
    "# calc accuracy\n",
    "acc_rule = accuracy_score(Ypred2, Ytest2)\n",
    "print('Performance of rule on test set: ', 'acc = ', acc_rule)"
   ]
  },
  {
   "cell_type": "markdown",
   "metadata": {},
   "source": [
    "The 1-3-3-5-9 rule gives similar results as before."
   ]
  },
  {
   "cell_type": "markdown",
   "metadata": {},
   "source": [
    "# Additional filtering"
   ]
  },
  {
   "cell_type": "markdown",
   "metadata": {},
   "source": [
    "Here, we will try to do an additional filtering of our data, by selecting games with larger material imbalances. The idea is that these positions might be more characteristic, thus improving our model’s performance."
   ]
  },
  {
   "cell_type": "code",
   "execution_count": 47,
   "metadata": {},
   "outputs": [],
   "source": [
    "X, Y = utils.read_games('lichess_elite_2020-06.pgn', skip_draws = True, min_material = 3)"
   ]
  },
  {
   "cell_type": "code",
   "execution_count": 2,
   "metadata": {},
   "outputs": [],
   "source": [
    "#np.savez('positions_data_eliteMin_mater_4', X = X, Y = Y)\n",
    "dat = np.load('positions_data_eliteMin_mater_4.npz')\n",
    "X = dat['X']\n",
    "Y = dat['Y']"
   ]
  },
  {
   "cell_type": "code",
   "execution_count": 4,
   "metadata": {},
   "outputs": [
    {
     "name": "stdout",
     "output_type": "stream",
     "text": [
      "Number of samples in dataset: 2753\n",
      "Input attributes: ['pawn_diff', 'knight_diff', 'bishop_diff', 'rook_diff', 'queen_diff']\n",
      "Target attribute: outcome\n",
      "sample inputs:\n",
      "[[-2  0  2  0 -1]\n",
      " [ 2  1 -1  0  0]\n",
      " [ 2  1  0 -1  0]\n",
      " [-1 -2  2  0  0]\n",
      " [-1 -2  2 -1  0]]\n",
      "sample outputs:\n",
      "[-1 -1  1  1  1]\n"
     ]
    }
   ],
   "source": [
    "# data characteristics\n",
    "target_col = 5\n",
    "dset_names = ['pawn_diff', 'knight_diff', 'bishop_diff', 'rook_diff', 'queen_diff', 'outcome']\n",
    "print('Number of samples in dataset:', len(Y))\n",
    "print('Input attributes:', dset_names[:target_col])\n",
    "print('Target attribute:', dset_names[target_col])\n",
    "\n",
    "print('sample inputs:')\n",
    "print(X[:5])\n",
    "\n",
    "print('sample outputs:')\n",
    "print(Y[:5])"
   ]
  },
  {
   "cell_type": "code",
   "execution_count": 5,
   "metadata": {},
   "outputs": [
    {
     "data": {
      "image/png": "[encoded data removed]",
      "text/plain": [
       "<Figure size 720x720 with 5 Axes>"
      ]
     },
     "metadata": {
      "needs_background": "light"
     },
     "output_type": "display_data"
    }
   ],
   "source": [
    "# make also a pandas dataframe\n",
    "XY = np.hstack( (X, Y.reshape((len(Y), -1))) )\n",
    "dataset = pd.DataFrame(XY, columns = dset_names)\n",
    "\n",
    "# adjust spacing between subplots\n",
    "plt.figure(figsize = (10, 10))\n",
    "plt.subplots_adjust(left=None, bottom=None, right=2, top=None, wspace=1, hspace=1)\n",
    "\n",
    "for i in range(len(dset_names) - 1):\n",
    "    plt.subplot(2, 3, i + 1)\n",
    "    plt.scatter(dataset[dset_names[i]], dataset[dset_names[-1]])\n",
    "    plt.gca().set_title('outcome vs ' + dset_names[i])\n",
    "plt.show()"
   ]
  },
  {
   "cell_type": "code",
   "execution_count": 6,
   "metadata": {},
   "outputs": [],
   "source": [
    "# Split our data\n",
    "Xtrain, Xtest, Ytrain, Ytest = train_test_split(X, Y, test_size=0.3)"
   ]
  },
  {
   "cell_type": "code",
   "execution_count": 7,
   "metadata": {},
   "outputs": [
    {
     "name": "stdout",
     "output_type": "stream",
     "text": [
      "model trained\n"
     ]
    },
    {
     "name": "stderr",
     "output_type": "stream",
     "text": [
      "C:\\Users\\admin\\Anaconda3\\lib\\site-packages\\sklearn\\linear_model\\logistic.py:432: FutureWarning: Default solver will be changed to 'lbfgs' in 0.22. Specify a solver to silence this warning.\n",
      "  FutureWarning)\n"
     ]
    }
   ],
   "source": [
    "clf = linear_model.LogisticRegression()\n",
    "\n",
    "# grid parameters to test\n",
    "Cs = [0.1, 0.5, 1, 2, 5]\n",
    "\n",
    "estimator = GridSearchCV(clf, dict(C = Cs), cv=5, scoring='accuracy', n_jobs=-1)\n",
    "\n",
    "# fit model\n",
    "estimator.fit(Xtrain, Ytrain)\n",
    "Ypred = estimator.predict(Xtest)\n",
    "\n",
    "print('model trained')"
   ]
  },
  {
   "cell_type": "code",
   "execution_count": 8,
   "metadata": {},
   "outputs": [
    {
     "name": "stdout",
     "output_type": "stream",
     "text": [
      "Performance on training set:  acc =  0.6964193046185781\n",
      "Performance on test set:  acc =  0.6840193704600485\n"
     ]
    }
   ],
   "source": [
    "# peformance on training set\n",
    "Ypred = estimator.predict(Xtrain)\n",
    "acc_train = accuracy_score(Ypred, Ytrain)\n",
    "\n",
    "# peformance on test set\n",
    "Ypred = estimator.predict(Xtest)\n",
    "acc_test = accuracy_score(Ypred, Ytest)\n",
    "\n",
    "# print results\n",
    "print('Performance on training set: ', 'acc = ', acc_train)\n",
    "print('Performance on test set: ', 'acc = ', acc_test)"
   ]
  },
  {
   "cell_type": "code",
   "execution_count": 9,
   "metadata": {},
   "outputs": [
    {
     "name": "stdout",
     "output_type": "stream",
     "text": [
      "feature names:  ['pawn_diff', 'knight_diff', 'bishop_diff', 'rook_diff', 'queen_diff']\n",
      "logistic weights:  [[0.31305152 0.65891799 0.82113033 1.0868021  2.2529833 ]]\n",
      "normalized logistic weights:  [[1.         2.10482288 2.62298789 3.47163979 7.19684521]]\n"
     ]
    }
   ],
   "source": [
    "# get feature weights\n",
    "print('feature names: ', dset_names[:-1])\n",
    "# get logistic weights\n",
    "w = estimator.best_estimator_.coef_\n",
    "print('logistic weights: ', w)\n",
    "w1 = w / np.abs(w[0, 0])\n",
    "print('normalized logistic weights: ', w1)"
   ]
  },
  {
   "cell_type": "markdown",
   "metadata": {},
   "source": [
    "Our additional filtering didn’t give us different results. A potential issue we didn’t consider is that a position might be good, but a mistake is done later and “ruins it”. But for strong players, the probability of such a thing should be lower."
   ]
  },
  {
   "cell_type": "markdown",
   "metadata": {},
   "source": [
    "# Classification vs Regression"
   ]
  },
  {
   "cell_type": "markdown",
   "metadata": {},
   "source": [
    "So far, we have treated the situation as a classification problem. But another possibility (not entirely correct, but OK..) is to view it as a regression problem: Namely, the piece values (features) are used to regress the game’s outcome (+1 for white’s win, -1 for loss, etc.). The weights of the regression model will again represent the importance of each feature. Let’s test this and train a regression model:  "
   ]
  },
  {
   "cell_type": "code",
   "execution_count": 10,
   "metadata": {},
   "outputs": [
    {
     "data": {
      "text/plain": [
       "LinearRegression(copy_X=True, fit_intercept=True, n_jobs=None, normalize=False)"
      ]
     },
     "execution_count": 10,
     "metadata": {},
     "output_type": "execute_result"
    }
   ],
   "source": [
    "reg = linear_model.LinearRegression()\n",
    "\n",
    "reg.fit(Xtrain, Ytrain)"
   ]
  },
  {
   "cell_type": "code",
   "execution_count": 14,
   "metadata": {},
   "outputs": [
    {
     "name": "stdout",
     "output_type": "stream",
     "text": [
      "Performance on training set:  MSE =  0.8282500779442904\n",
      "Performance on test set:  MSE =  0.8421140669686357\n"
     ]
    }
   ],
   "source": [
    "# peformance on training set\n",
    "Ypred = reg.predict(Xtrain)\n",
    "mse_train = mean_squared_error(Ypred, Ytrain)\n",
    "\n",
    "# peformance on test set\n",
    "Ypred = reg.predict(Xtest)\n",
    "mse_test = mean_squared_error(Ypred, Ytest)\n",
    "\n",
    "# print results\n",
    "print('Performance on training set: ', 'MSE = ', mse_train)\n",
    "print('Performance on test set: ', 'MSE = ', mse_test)"
   ]
  },
  {
   "cell_type": "code",
   "execution_count": 15,
   "metadata": {},
   "outputs": [
    {
     "name": "stdout",
     "output_type": "stream",
     "text": [
      "feature names:  ['pawn_diff', 'knight_diff', 'bishop_diff', 'rook_diff', 'queen_diff']\n",
      "regression weights:  [[0.31305152 0.65891799 0.82113033 1.0868021  2.2529833 ]]\n",
      "normalized weights:  [[1.         2.10482288 2.62298789 3.47163979 7.19684521]]\n"
     ]
    }
   ],
   "source": [
    "# get feature weights\n",
    "print('feature names: ', dset_names[:-1])\n",
    "# get logistic weights\n",
    "w = estimator.best_estimator_.coef_\n",
    "print('regression weights: ', w)\n",
    "w1 = w / np.abs(w[0, 0])\n",
    "print('normalized weights: ', w1)"
   ]
  },
  {
   "cell_type": "markdown",
   "metadata": {},
   "source": [
    "We see that the features have similar values as before."
   ]
  },
  {
   "cell_type": "markdown",
   "metadata": {},
   "source": [
    "Additionally, we can interpret the 1-3-3-5-9 rule as regression, and measure its MSE loss!"
   ]
  },
  {
   "cell_type": "code",
   "execution_count": 22,
   "metadata": {},
   "outputs": [
    {
     "name": "stdout",
     "output_type": "stream",
     "text": [
      "Performance of rule on test set:  mse =  0.8781165412088968\n"
     ]
    }
   ],
   "source": [
    "# calc scores with rule of thumb\n",
    "scores = 1 * Xtest[:, 0] + 3 * Xtest[:, 1] + 3 * Xtest[:, 2] + 5 * Xtest[:, 3] + 9 * Xtest[:, 4] \n",
    "scores = scores / (1+3+3+5+9) # normalize scores\n",
    "\n",
    "# calc mse\n",
    "mse_rule = mean_squared_error(scores, Ytest)\n",
    "print('Performance of rule on test set: ', 'mse = ', mse_rule)"
   ]
  },
  {
   "cell_type": "markdown",
   "metadata": {},
   "source": [
    "The piece values are again similar as before."
   ]
  },
  {
   "cell_type": "markdown",
   "metadata": {},
   "source": [
    "### Elastic Net"
   ]
  },
  {
   "cell_type": "markdown",
   "metadata": {},
   "source": [
    "Finally, let’s try to train an elastic net, which is a linear model with L1 and L2 regularization parameters. Running it on the strong players dataset, we get: "
   ]
  },
  {
   "cell_type": "code",
   "execution_count": 23,
   "metadata": {},
   "outputs": [
    {
     "name": "stdout",
     "output_type": "stream",
     "text": [
      "model trained\n"
     ]
    }
   ],
   "source": [
    "reg = linear_model.ElasticNet()\n",
    "\n",
    "# grid parameters to test\n",
    "alphas = [0.01, 0.1, 0.5, 1, 2, 5]\n",
    "l1_ratios = [0.1, 0.2, 0.5, 0.7, 1]\n",
    "\n",
    "estimator = GridSearchCV(reg, dict(alpha = alphas, l1_ratio = l1_ratios), cv=5, scoring='neg_mean_squared_error', n_jobs=-1)\n",
    "\n",
    "# fit model\n",
    "estimator.fit(Xtrain, Ytrain)\n",
    "Ypred = estimator.predict(Xtest)\n",
    "\n",
    "print('model trained')"
   ]
  },
  {
   "cell_type": "code",
   "execution_count": 24,
   "metadata": {},
   "outputs": [
    {
     "name": "stdout",
     "output_type": "stream",
     "text": [
      "Performance on training set:  MSE =  0.8290297169389315\n",
      "Performance on test set:  MSE =  0.8413179515242228\n"
     ]
    }
   ],
   "source": [
    "# peformance on training set\n",
    "Ypred = estimator.predict(Xtrain)\n",
    "mse_train = mean_squared_error(Ypred, Ytrain)\n",
    "\n",
    "# peformance on test set\n",
    "Ypred = estimator.predict(Xtest)\n",
    "mse_test = mean_squared_error(Ypred, Ytest)\n",
    "\n",
    "# print results\n",
    "print('Performance on training set: ', 'MSE = ', mse_train)\n",
    "print('Performance on test set: ', 'MSE = ', mse_test)"
   ]
  },
  {
   "cell_type": "code",
   "execution_count": 26,
   "metadata": {},
   "outputs": [
    {
     "name": "stdout",
     "output_type": "stream",
     "text": [
      "feature names:  ['pawn_diff', 'knight_diff', 'bishop_diff', 'rook_diff', 'queen_diff']\n",
      "regression weights:  [0.12345303 0.21017073 0.27979342 0.36210048 0.73572539]\n",
      "normalized weights:  [1.         1.70243469 2.26639568 2.93310315 5.95955698]\n"
     ]
    }
   ],
   "source": [
    "# get feature weights\n",
    "print('feature names: ', dset_names[:-1])\n",
    "# get logistic weights\n",
    "w = estimator.best_estimator_.coef_\n",
    "print('regression weights: ', w)\n",
    "w1 = w / w[0]\n",
    "print('normalized weights: ', w1)"
   ]
  },
  {
   "cell_type": "markdown",
   "metadata": {},
   "source": [
    "Now, piece values are a little lower, which is reasonable due to the use of regularization. But in each case, the predictive power of material is not very high, because we lose the very important information of position. Moreover, there is also the issue that a position might be good now, but ruined on the process. A solution to mitigate this would be the use of Reinforcement Learning, where the correct value function will be attributed to each position. "
   ]
  },
  {
   "cell_type": "markdown",
   "metadata": {},
   "source": [
    "# Application on chess variants"
   ]
  },
  {
   "cell_type": "markdown",
   "metadata": {},
   "source": [
    "Apart from standard chess, there are also various chess variants, each with its own weird rules and objectives! You can find out more about them here: https://en.wikipedia.org/wiki/Chess_variant\n",
    "In this section, we apply our model and try to learn piece values for some of them!"
   ]
  },
  {
   "cell_type": "markdown",
   "metadata": {},
   "source": [
    "# Antichess"
   ]
  },
  {
   "cell_type": "markdown",
   "metadata": {},
   "source": [
    "Antichess is a chess variant where the player has to lose all his pieces first in order to win! Pieces move in exactly the same way as in standard chess, but with two differences:\n",
    "\n",
    "1. If a player can capture one of the opponent’s pieces in a given position, he is forced to do so.\n",
    "2. The king here is merely another piece: losing it doesn’t cost you the game.\n",
    "\n",
    "You can find more information about Antichess here: https://en.wikipedia.org/wiki/Losing_chess "
   ]
  },
  {
   "cell_type": "markdown",
   "metadata": {},
   "source": [
    "To start, download and unzip the data from here: https://database.lichess.org/#variant_games/lichess_db_antichess_rated_2016-05.pgn.bz2"
   ]
  },
  {
   "cell_type": "markdown",
   "metadata": {},
   "source": [
    "Now, we can collect positions and do the same analysis as before:"
   ]
  },
  {
   "cell_type": "code",
   "execution_count": null,
   "metadata": {},
   "outputs": [],
   "source": [
    "X, Y = utils.read_games_variant('lichess_db_antichess_rated_2016-05.pgn', variant = 'antichess', skip_draws = True)"
   ]
  },
  {
   "cell_type": "code",
   "execution_count": 12,
   "metadata": {},
   "outputs": [],
   "source": [
    "# np.savez('positions_data_anti', X = X, Y = Y)\n",
    "dat = np.load('positions_data_anti.npz')\n",
    "X = dat['X']\n",
    "Y = dat['Y']"
   ]
  },
  {
   "cell_type": "code",
   "execution_count": 13,
   "metadata": {},
   "outputs": [
    {
     "name": "stdout",
     "output_type": "stream",
     "text": [
      "Number of samples in dataset: 11882\n",
      "Input attributes: ['pawn_diff', 'knight_diff', 'bishop_diff', 'rook_diff', 'queen_diff', 'king_diff']\n",
      "Target attribute: outcome\n",
      "sample inputs:\n",
      "[[-1 -1  0  0  0  0]\n",
      " [-1 -1  0  0  0  0]\n",
      " [ 0 -1  1 -1  0  1]\n",
      " [ 1  0  0 -1  0  1]\n",
      " [ 2  0  0  0  0  0]\n",
      " [ 0  0  0 -1  0  1]]\n",
      "sample outputs:\n",
      "[ 1  1 -1 -1 -1]\n"
     ]
    }
   ],
   "source": [
    "# data characteristics\n",
    "target_col = 6\n",
    "dset_names = ['pawn_diff', 'knight_diff', 'bishop_diff', 'rook_diff', 'queen_diff', 'king_diff', 'outcome']\n",
    "print('Number of samples in dataset:', len(Y))\n",
    "print('Input attributes:', dset_names[:target_col])\n",
    "print('Target attribute:', dset_names[target_col])\n",
    "\n",
    "print('sample inputs:')\n",
    "print(X[:6])\n",
    "\n",
    "print('sample outputs:')\n",
    "print(Y[:5])"
   ]
  },
  {
   "cell_type": "code",
   "execution_count": 15,
   "metadata": {},
   "outputs": [
    {
     "data": {
      "image/png": "[encoded data removed]",
      "text/plain": [
       "<Figure size 720x720 with 6 Axes>"
      ]
     },
     "metadata": {
      "needs_background": "light"
     },
     "output_type": "display_data"
    }
   ],
   "source": [
    "# make also a pandas dataframe\n",
    "XY = np.hstack( (X, Y.reshape((len(Y), -1))) )\n",
    "dataset = pd.DataFrame(XY, columns = dset_names)\n",
    "\n",
    "# adjust spacing between subplots\n",
    "plt.figure(figsize = (10, 10))\n",
    "plt.subplots_adjust(left=None, bottom=None, right=2, top=None, wspace=1, hspace=1)\n",
    "\n",
    "for i in range(len(dset_names) - 1):\n",
    "    plt.subplot(2, 3, i + 1)\n",
    "    plt.scatter(dataset[dset_names[i]], dataset[dset_names[-1]])\n",
    "    plt.gca().set_title('outcome vs ' + dset_names[i])\n",
    "plt.show()"
   ]
  },
  {
   "cell_type": "code",
   "execution_count": 14,
   "metadata": {},
   "outputs": [],
   "source": [
    "# Split our data\n",
    "Xtrain, Xtest, Ytrain, Ytest = train_test_split(X, Y, test_size=0.3)"
   ]
  },
  {
   "cell_type": "code",
   "execution_count": 16,
   "metadata": {},
   "outputs": [
    {
     "name": "stdout",
     "output_type": "stream",
     "text": [
      "model trained\n"
     ]
    },
    {
     "name": "stderr",
     "output_type": "stream",
     "text": [
      "C:\\Users\\admin\\Anaconda3\\lib\\site-packages\\sklearn\\linear_model\\logistic.py:432: FutureWarning: Default solver will be changed to 'lbfgs' in 0.22. Specify a solver to silence this warning.\n",
      "  FutureWarning)\n"
     ]
    }
   ],
   "source": [
    "clf = linear_model.LogisticRegression()\n",
    "\n",
    "# grid parameters to test\n",
    "Cs = [0.1, 0.5, 1, 2, 5]\n",
    "\n",
    "estimator = GridSearchCV(clf, dict(C = Cs), cv=5, scoring='accuracy', n_jobs=-1)\n",
    "\n",
    "# fit model\n",
    "estimator.fit(Xtrain, Ytrain)\n",
    "Ypred = estimator.predict(Xtest)\n",
    "\n",
    "print('model trained')"
   ]
  },
  {
   "cell_type": "code",
   "execution_count": 17,
   "metadata": {
    "scrolled": true
   },
   "outputs": [
    {
     "name": "stdout",
     "output_type": "stream",
     "text": [
      "Performance on training set:  acc =  0.6659853312492485\n",
      "Performance on test set:  acc =  0.647124824684432\n"
     ]
    }
   ],
   "source": [
    "# peformance on training set\n",
    "Ypred = estimator.predict(Xtrain)\n",
    "acc_train = accuracy_score(Ypred, Ytrain)\n",
    "\n",
    "# peformance on test set\n",
    "Ypred = estimator.predict(Xtest)\n",
    "acc_test = accuracy_score(Ypred, Ytest)\n",
    "\n",
    "# print results\n",
    "print('Performance on training set: ', 'acc = ', acc_train)\n",
    "print('Performance on test set: ', 'acc = ', acc_test)"
   ]
  },
  {
   "cell_type": "code",
   "execution_count": 19,
   "metadata": {
    "scrolled": false
   },
   "outputs": [
    {
     "name": "stdout",
     "output_type": "stream",
     "text": [
      "feature names:  ['pawn_diff', 'knight_diff', 'bishop_diff', 'rook_diff', 'queen_diff', 'king_diff']\n",
      "logistic weights:  [[-0.29280669 -0.31590648 -0.4480301  -0.40612974 -0.39169166 -0.05741419]]\n",
      "normalized logistic weights:  [[-1.         -1.07889093 -1.5301225  -1.38702342 -1.33771418 -0.19608223]]\n"
     ]
    }
   ],
   "source": [
    "# get feature weights\n",
    "print('feature names: ', dset_names[:-1])\n",
    "# get logistic weights\n",
    "w = estimator.best_estimator_.coef_\n",
    "print('logistic weights: ', w)\n",
    "w1 = w / np.abs(w[0, 0])\n",
    "print('normalized logistic weights: ', w1)"
   ]
  },
  {
   "cell_type": "markdown",
   "metadata": {},
   "source": [
    "We see that we can get an estimate of piece values for other chess variants too! In this case, we 1st see that the weights are negative, which is expected: if we have more material in antichess then we’re most likely losing, since we must lose it all to win! Further, we see that the differences in piece values are smaller now, and that the worst piece to have is the bishop. This is indeed true! In antichess, its very common to get trapped into positions where your bishop is forced to “take everything” and lose the game!"
   ]
  },
  {
   "cell_type": "markdown",
   "metadata": {},
   "source": [
    "# Atomic"
   ]
  },
  {
   "cell_type": "markdown",
   "metadata": {},
   "source": [
    "Another funny chess variant is the so-called Atomic chess! Here, pieces move as in normal chess, but if a piece captures another, they explode! More specifically, we have:\n",
    "\n",
    "1. If a piece captures another, they both go out of the game.\n",
    "2. Moreover, all pieces on the 3x3 region around the “explosion” go out as well – apart from pawns!\n",
    "3. The king can explode too! We can win not only with checkmate, but also by exploding the opponent’s king!\n",
    "\n",
    "For more information on Atomic, see this link: https://en.wikipedia.org/wiki/Atomic_chess "
   ]
  },
  {
   "cell_type": "markdown",
   "metadata": {},
   "source": [
    "First, lets download and unzip some atomic games from here: https://database.lichess.org/#variant_games/lichess_db_atomic_rated_2018-05.pgn.bz2"
   ]
  },
  {
   "cell_type": "markdown",
   "metadata": {},
   "source": [
    "Now, we collect game positions and do the same analysis as before:"
   ]
  },
  {
   "cell_type": "code",
   "execution_count": null,
   "metadata": {},
   "outputs": [],
   "source": [
    "X, Y = utils.read_games_variant('lichess_db_atomic_rated_2018-05.pgn', variant = 'atomic', skip_draws = True)"
   ]
  },
  {
   "cell_type": "code",
   "execution_count": 1,
   "metadata": {},
   "outputs": [
    {
     "ename": "NameError",
     "evalue": "name 'np' is not defined",
     "output_type": "error",
     "traceback": [
      "\u001b[1;31m---------------------------------------------------------------------------\u001b[0m",
      "\u001b[1;31mNameError\u001b[0m                                 Traceback (most recent call last)",
      "\u001b[1;32m<ipython-input-1-bf4916bdda7f>\u001b[0m in \u001b[0;36m<module>\u001b[1;34m\u001b[0m\n\u001b[0;32m      1\u001b[0m \u001b[1;31m#np.savez('data_elite_rl', X = X, Xn = Xn, R = R)\u001b[0m\u001b[1;33m\u001b[0m\u001b[1;33m\u001b[0m\u001b[1;33m\u001b[0m\u001b[0m\n\u001b[1;32m----> 2\u001b[1;33m \u001b[0mdat\u001b[0m \u001b[1;33m=\u001b[0m \u001b[0mnp\u001b[0m\u001b[1;33m.\u001b[0m\u001b[0mload\u001b[0m\u001b[1;33m(\u001b[0m\u001b[1;34m'data_elite_rl.npz'\u001b[0m\u001b[1;33m)\u001b[0m\u001b[1;33m\u001b[0m\u001b[1;33m\u001b[0m\u001b[0m\n\u001b[0m\u001b[0;32m      3\u001b[0m \u001b[0mX\u001b[0m \u001b[1;33m=\u001b[0m \u001b[0mdat\u001b[0m\u001b[1;33m[\u001b[0m\u001b[1;34m'X'\u001b[0m\u001b[1;33m]\u001b[0m\u001b[1;33m\u001b[0m\u001b[1;33m\u001b[0m\u001b[0m\n\u001b[0;32m      4\u001b[0m \u001b[0mXn\u001b[0m \u001b[1;33m=\u001b[0m \u001b[0mdat\u001b[0m\u001b[1;33m[\u001b[0m\u001b[1;34m'Xn'\u001b[0m\u001b[1;33m]\u001b[0m\u001b[1;33m\u001b[0m\u001b[1;33m\u001b[0m\u001b[0m\n\u001b[0;32m      5\u001b[0m \u001b[0mR\u001b[0m \u001b[1;33m=\u001b[0m \u001b[0mdat\u001b[0m\u001b[1;33m[\u001b[0m\u001b[1;34m'R'\u001b[0m\u001b[1;33m]\u001b[0m\u001b[1;33m\u001b[0m\u001b[1;33m\u001b[0m\u001b[0m\n",
      "\u001b[1;31mNameError\u001b[0m: name 'np' is not defined"
     ]
    }
   ],
   "source": [
    "np.savez('positions_data_atomic', X = X, Y = Y)\n",
    "#dat = np.load('positions_data_atomic.npz')\n",
    "#X = dat['X']\n",
    "#Y = dat['Y']"
   ]
  },
  {
   "cell_type": "code",
   "execution_count": 22,
   "metadata": {},
   "outputs": [
    {
     "name": "stdout",
     "output_type": "stream",
     "text": [
      "Number of samples in dataset: 7518\n",
      "Input attributes: ['pawn_diff', 'knight_diff', 'bishop_diff', 'rook_diff', 'queen_diff']\n",
      "Target attribute: outcome\n",
      "sample inputs:\n",
      "[[ 1 -1  0  0  1]\n",
      " [ 1 -1  0  0  1]\n",
      " [ 1 -1  0  0  1]\n",
      " [ 2 -2  0  0  0]\n",
      " [ 3 -1  1  0  0]]\n",
      "sample outputs:\n",
      "[1 1 1 1 1]\n"
     ]
    }
   ],
   "source": [
    "# data characteristics\n",
    "target_col = 5\n",
    "dset_names = ['pawn_diff', 'knight_diff', 'bishop_diff', 'rook_diff', 'queen_diff', 'outcome']\n",
    "print('Number of samples in dataset:', len(Y))\n",
    "print('Input attributes:', dset_names[:target_col])\n",
    "print('Target attribute:', dset_names[target_col])\n",
    "\n",
    "print('sample inputs:')\n",
    "print(X[:5])\n",
    "\n",
    "print('sample outputs:')\n",
    "print(Y[:5])"
   ]
  },
  {
   "cell_type": "code",
   "execution_count": 23,
   "metadata": {},
   "outputs": [
    {
     "data": {
      "image/png": "[encoded data removed]",
      "text/plain": [
       "<Figure size 720x720 with 5 Axes>"
      ]
     },
     "metadata": {
      "needs_background": "light"
     },
     "output_type": "display_data"
    }
   ],
   "source": [
    "# make also a pandas dataframe\n",
    "XY = np.hstack( (X, Y.reshape((len(Y), -1))) )\n",
    "dataset = pd.DataFrame(XY, columns = dset_names)\n",
    "\n",
    "# adjust spacing between subplots\n",
    "plt.figure(figsize = (10, 10))\n",
    "plt.subplots_adjust(left=None, bottom=None, right=2, top=None, wspace=1, hspace=1)\n",
    "\n",
    "for i in range(len(dset_names) - 1):\n",
    "    plt.subplot(2, 3, i + 1)\n",
    "    plt.scatter(dataset[dset_names[i]], dataset[dset_names[-1]])\n",
    "    plt.gca().set_title('outcome vs ' + dset_names[i])\n",
    "plt.show()"
   ]
  },
  {
   "cell_type": "code",
   "execution_count": 24,
   "metadata": {},
   "outputs": [],
   "source": [
    "# Split our data\n",
    "Xtrain, Xtest, Ytrain, Ytest = train_test_split(X, Y, test_size=0.3)"
   ]
  },
  {
   "cell_type": "code",
   "execution_count": 25,
   "metadata": {},
   "outputs": [
    {
     "name": "stdout",
     "output_type": "stream",
     "text": [
      "model trained\n"
     ]
    },
    {
     "name": "stderr",
     "output_type": "stream",
     "text": [
      "C:\\Users\\admin\\Anaconda3\\lib\\site-packages\\sklearn\\linear_model\\logistic.py:432: FutureWarning: Default solver will be changed to 'lbfgs' in 0.22. Specify a solver to silence this warning.\n",
      "  FutureWarning)\n"
     ]
    }
   ],
   "source": [
    "clf = linear_model.LogisticRegression()\n",
    "\n",
    "# grid parameters to test\n",
    "Cs = [0.1, 0.5, 1, 2, 5]\n",
    "\n",
    "estimator = GridSearchCV(clf, dict(C = Cs), cv=5, scoring='accuracy', n_jobs=-1)\n",
    "\n",
    "# fit model\n",
    "estimator.fit(Xtrain, Ytrain)\n",
    "Ypred = estimator.predict(Xtest)\n",
    "\n",
    "print('model trained')"
   ]
  },
  {
   "cell_type": "code",
   "execution_count": 26,
   "metadata": {
    "scrolled": true
   },
   "outputs": [
    {
     "name": "stdout",
     "output_type": "stream",
     "text": [
      "Performance on training set:  acc =  0.6269479285442797\n",
      "Performance on test set:  acc =  0.675531914893617\n"
     ]
    }
   ],
   "source": [
    "# peformance on training set\n",
    "Ypred = estimator.predict(Xtrain)\n",
    "acc_train = accuracy_score(Ypred, Ytrain)\n",
    "\n",
    "# peformance on test set\n",
    "Ypred = estimator.predict(Xtest)\n",
    "acc_test = accuracy_score(Ypred, Ytest)\n",
    "\n",
    "# print results\n",
    "print('Performance on training set: ', 'acc = ', acc_train)\n",
    "print('Performance on test set: ', 'acc = ', acc_test)"
   ]
  },
  {
   "cell_type": "code",
   "execution_count": 27,
   "metadata": {
    "scrolled": false
   },
   "outputs": [
    {
     "name": "stdout",
     "output_type": "stream",
     "text": [
      "feature names:  ['pawn_diff', 'knight_diff', 'bishop_diff', 'rook_diff', 'queen_diff']\n",
      "logistic weights:  [[0.16197727 0.13632543 0.27341512 0.55372952 0.91646594]]\n",
      "normalized logistic weights:  [[1.         0.84163308 1.68798454 3.41856317 5.65799113]]\n"
     ]
    }
   ],
   "source": [
    "# get feature weights\n",
    "print('feature names: ', dset_names[:-1])\n",
    "# get logistic weights\n",
    "w = estimator.best_estimator_.coef_\n",
    "print('logistic weights: ', w)\n",
    "w1 = w / np.abs(w[0, 0])\n",
    "print('normalized logistic weights: ', w1)"
   ]
  },
  {
   "cell_type": "markdown",
   "metadata": {},
   "source": [
    "For atomic, we see that the relative value of pawns is larger than in standard chess. This is reasonable, since pawns are not affected by explosions, and thus have an additional advantage in this variant. "
   ]
  },
  {
   "cell_type": "markdown",
   "metadata": {},
   "source": [
    "Some strong atomic players have suggested the following piece values: pawn = 1, knight = bishop = 1.5, rook = 3, queen = 6. We  can again test the accuracy of this “1-1.5-1.5-3-6” rule:"
   ]
  },
  {
   "cell_type": "code",
   "execution_count": 28,
   "metadata": {},
   "outputs": [
    {
     "name": "stdout",
     "output_type": "stream",
     "text": [
      "Performance of rule on test set:  acc =  0.6436170212765957\n"
     ]
    }
   ],
   "source": [
    "# calc scores with rule of thumb\n",
    "scores = 1 * Xtest[:, 0] + 1.5 * Xtest[:, 1] + 1.5 * Xtest[:, 2] + 3 * Xtest[:, 3] + 6 * Xtest[:, 4] \n",
    "# logistic prob\n",
    "probs = 1 / (1 + np.exp(-scores))\n",
    "# logistic classification\n",
    "Ypred2 = probs >= 0.5\n",
    "# fix also Ytest to be in [0, 1]\n",
    "Ytest2 = Ytest > 0\n",
    "\n",
    "# calc accuracy\n",
    "acc_rule = accuracy_score(Ypred2, Ytest2)\n",
    "print('Performance of rule on test set: ', 'acc = ', acc_rule)"
   ]
  },
  {
   "cell_type": "markdown",
   "metadata": {},
   "source": [
    "The rule’s accuracy is similar to our model. Moreover, the values our model found this time are very close to the atomic rule, with the exception of the knight’s value, which is a bit reduced. We believe that the reason for this is that we have filtered out games with a very small number of moves, where a player can easily win his opponent in Atomic, if the opponent is not so prepared, and doesn’t know how to properly defend against the knight attacks. These attacks happen usually in the beginning of the game, and thus, by filtering, we have somewhat reduced the knight’s calculated value. Finally, in atomic it’s very easy to make a mistake and lose, and this can also affect the model’s predictions. "
   ]
  },
  {
   "cell_type": "markdown",
   "metadata": {},
   "source": [
    "## Reinforcement Learning?"
   ]
  },
  {
   "cell_type": "markdown",
   "metadata": {},
   "source": [
    "This is a speculative experiment, and not so easy to understand. Feel free to ignore it!"
   ]
  },
  {
   "cell_type": "markdown",
   "metadata": {},
   "source": [
    "As we saw previously, an issue with the supervised learning method is that a position might be good now, but “get ruined” later by a player’s mistake. So, a good position can lead to a bad one, and visa versa. A supervised model doesn’t know which one contributed to the game’s outcome, and thus can be mislead. "
   ]
  },
  {
   "cell_type": "markdown",
   "metadata": {},
   "source": [
    "To mitigate this, our piece values will now try to predict not the final outcome of the game, but the value function of each given position. The value function tells us the probability of winning starting from this position, and is found by Reinforcement Learning. As such, it’s a better measure for a position’s goodness, and that might help our model."
   ]
  },
  {
   "cell_type": "markdown",
   "metadata": {},
   "source": [
    "Here, we won’t play games from scratch. Instead, we will assume that our Master games are produced from a common (stochastic) Master policy $π$, which is supposed to be the way that a professional chess player plays. We will then try to learn the value function of that policy, by sampling from the Master’s games. We use TD(0) learning, where the value function $V(s)$ of a given state (position) tries to approximate the value function of he next state, $R + V(s')$, where $R$ is the reward (which is given at the end of the game in chess, and is zero elsewhere). "
   ]
  },
  {
   "cell_type": "markdown",
   "metadata": {},
   "source": [
    "We don’t have to run TD learning iteratively, since one can show that the weights we want to find in the linear case are the solution of the system: $E[(R + γv(s') - v(s))^2]$, where $E$ is the mean value, and $v(s) = w^T \\cdot s$ is the linear value function approximation we want to find.  "
   ]
  },
  {
   "cell_type": "markdown",
   "metadata": {},
   "source": [
    "So, let’s sample some game positions, along with their subsequent positions and rewards:"
   ]
  },
  {
   "cell_type": "code",
   "execution_count": null,
   "metadata": {},
   "outputs": [],
   "source": [
    "# X: current pos, Xn: next pos, R: rewards\n",
    "X, Xn, R = read_games_rl('lichess_elite_2020-06.pgn')"
   ]
  },
  {
   "cell_type": "code",
   "execution_count": 3,
   "metadata": {},
   "outputs": [],
   "source": [
    "#np.savez('data_elite_rl', X = X, Xn = Xn, R = R)\n",
    "dat = np.load('data_elite_rl.npz')\n",
    "X = dat['X']\n",
    "Xn = dat['Xn']\n",
    "R = dat['R']"
   ]
  },
  {
   "cell_type": "code",
   "execution_count": 4,
   "metadata": {},
   "outputs": [
    {
     "name": "stdout",
     "output_type": "stream",
     "text": [
      "Number of samples in dataset: 60012\n",
      "sample states:\n",
      "[[ 0 -1  0  0  0]\n",
      " [ 0 -1  1  0  0]\n",
      " [ 1 -1  0  0  0]\n",
      " [ 1 -1  1  0  0]\n",
      " [ 1 -1  1  0  0]]\n",
      "sample next states:\n",
      "[[ 0 -1  0  0  0  0]\n",
      " [ 0 -1  1  0  0  0]\n",
      " [ 1 -1  0  0  0  0]\n",
      " [ 1 -1  1  0  0  0]\n",
      " [ 1 -1  1  0  0  0]]\n",
      "sample rewards:\n",
      "[0 0 0 0 0]\n"
     ]
    }
   ],
   "source": [
    "# print sample data\n",
    "target_col = 5\n",
    "dset_names = ['pawn_diff', 'knight_diff', 'bishop_diff', 'rook_diff', 'queen_diff']\n",
    "print('Number of samples in dataset:', len(R))\n",
    "\n",
    "print('sample states:')\n",
    "print(X[:5])\n",
    "\n",
    "print('sample next states:')\n",
    "print(Xn[:5])\n",
    "\n",
    "print('sample rewards:')\n",
    "print(R[:5])"
   ]
  },
  {
   "cell_type": "markdown",
   "metadata": {},
   "source": [
    "We observe that in most transitions the state doesn’t change (no captures), and the reward is zero."
   ]
  },
  {
   "cell_type": "markdown",
   "metadata": {},
   "source": [
    "Now, the solution of the system stated above is equivalent to the following linear regression: $w^T (v(s) - γv(s')) \\rightarrow R(s)$. We formulate the problem in this way and train our model. We also select $γ = 0.99$ as the discount factor. We get:"
   ]
  },
  {
   "cell_type": "code",
   "execution_count": 11,
   "metadata": {},
   "outputs": [
    {
     "data": {
      "text/plain": [
       "LinearRegression(copy_X=True, fit_intercept=True, n_jobs=None, normalize=False)"
      ]
     },
     "execution_count": 11,
     "metadata": {},
     "output_type": "execute_result"
    }
   ],
   "source": [
    "gamma = 0.99\n",
    "\n",
    "reg = linear_model.LinearRegression()\n",
    "\n",
    "Xi = gamma * Xn - X\n",
    "reg.fit(Xi, R)"
   ]
  },
  {
   "cell_type": "code",
   "execution_count": 12,
   "metadata": {},
   "outputs": [
    {
     "name": "stdout",
     "output_type": "stream",
     "text": [
      "feature names:  ['pawn_diff', 'knight_diff', 'bishop_diff', 'rook_diff', 'queen_diff']\n",
      "regression weights:  [0.75264309 0.94341921 0.92572296 0.8651051  1.11907679]\n",
      "normalized weights:  [1.         1.25347488 1.22996275 1.14942276 1.48686251]\n"
     ]
    }
   ],
   "source": [
    "# get feature weights\n",
    "print('feature names: ', dset_names)\n",
    "# get logistic weights\n",
    "w = reg.coef_\n",
    "print('regression weights: ', w)\n",
    "w1 = w / w[0]\n",
    "print('normalized weights: ', w1)"
   ]
  },
  {
   "cell_type": "markdown",
   "metadata": {},
   "source": [
    "We see that the obtained values are very bad! This is due to various factors, such as bad or not enough sampling, many identical states, etc. Moreover, the assumption that all games come from a commin policy is of course wrong! "
   ]
  },
  {
   "cell_type": "markdown",
   "metadata": {},
   "source": [
    "# Conclusion"
   ]
  },
  {
   "cell_type": "markdown",
   "metadata": {},
   "source": [
    "In this notebook, we tried to explain the chess piece values and the corresponding rule under a machine learning light: namely, the pieces are predictors / features of a games outcome, and their values are the weights of these features. This could give us reasonable values for standard chess and some of its variants. It’s worthwhile to try and further improve these results, and see how close to the rule values one can get. \n",
    "\n",
    "Finally, we hope you had fun!   "
   ]
  }
 ],
 "metadata": {
  "kernelspec": {
   "display_name": "Python 3",
   "language": "python",
   "name": "python3"
  },
  "language_info": {
   "codemirror_mode": {
    "name": "ipython",
    "version": 3
   },
   "file_extension": ".py",
   "mimetype": "text/x-python",
   "name": "python",
   "nbconvert_exporter": "python",
   "pygments_lexer": "ipython3",
   "version": "3.7.4"
  }
 },
 "nbformat": 4,
 "nbformat_minor": 2
}
